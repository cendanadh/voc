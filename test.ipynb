{
 "cells": [
  {
   "cell_type": "code",
   "execution_count": 1,
   "id": "95adcfaa-1110-448b-9719-cc2f9c7f04f1",
   "metadata": {},
   "outputs": [],
   "source": [
    "import pandas as pd\n",
    "import numpy as np"
   ]
  },
  {
   "cell_type": "code",
   "execution_count": 3,
   "id": "f1d32c64-4088-4a9a-83b2-6f3ce9d76d2c",
   "metadata": {},
   "outputs": [],
   "source": [
    "threshold_fix = pd.read_csv('threshold_fix.csv')  \n",
    "threshold_fix = dict(zip(threshold_fix.iloc[:, 0], threshold_fix.iloc[:, 1]))"
   ]
  },
  {
   "cell_type": "code",
   "execution_count": 5,
   "id": "58807cbb-9996-4704-933f-a61908bf8876",
   "metadata": {},
   "outputs": [
    {
     "data": {
      "text/plain": [
       "{'tutela_packetloss': 'Benchmark',\n",
       " 'tutela_video_score_netflix': 'Benchmark',\n",
       " 'onx_udp_packetloss_overall': 'Benchmark',\n",
       " 'onx_upload_speed_overall': 'Benchmark',\n",
       " 'tutela_jitter': 'Benchmark',\n",
       " 'onx_avg_stalling_time_overall': 'Benchmark',\n",
       " 'tutela_good_coverage': 'Benchmark',\n",
       " 'onx_ecq': 'Benchmark',\n",
       " 'onx_sum_stalling_occurance_overall': 'Benchmark',\n",
       " 'tutela_game_parameter': 'Benchmark',\n",
       " 'onx_download_speed_overall': 'Benchmark',\n",
       " 'enodeb_share': 'Benchmark',\n",
       " 'onx_udp_latency_overall': 'Benchmark',\n",
       " 'tutela_latency': 'Benchmark',\n",
       " 'onx_codingsegmentsdurationpercentagehd_overall': 'Benchmark',\n",
       " 'tutela_video_score_all': 'Benchmark',\n",
       " 'tutela_upload_throughput': 'Benchmark',\n",
       " 'tutela_excellent_quality': 'Benchmark',\n",
       " 'sample_qualitymatch': 'Benchmark',\n",
       " 'tutela_download_throughput': 'Benchmark',\n",
       " 'tutela_good_quality': 'Benchmark',\n",
       " 'onx_udp_jitter_overall': 'Benchmark',\n",
       " 'onx_avg_video_throughput_overall': 'Benchmark',\n",
       " 'onx_codingsegmentsdurationaveragehd_overall': 'Benchmark',\n",
       " 'onx_avg_initialbufferinterval_overall': 'Benchmark',\n",
       " 'tutela_video_score_youtube': 'Benchmark',\n",
       " 'max_resource_block_utilization_rate_relactuserdl_num': 'Capacity',\n",
       " 'nr_prb_utilization_ul_rate_relactuserdl': 'Capacity',\n",
       " 'ul_resource_block_utilization_rate_relactuserdl_num': 'Capacity',\n",
       " 'nr_prb_utilization_dl_rate_relactuserdl': 'Capacity',\n",
       " 'dl_resource_block_utilization_rate_relactuserdl_num': 'Capacity',\n",
       " 'ccsr_voice_rate': 'Network Performance',\n",
       " 'nr_user_throughput_dl_mbps_relactuserdl': 'Network Performance',\n",
       " 'nr_sn_setup_success_rate': 'Network Performance',\n",
       " 'packetloss': 'Network Performance',\n",
       " 'availability_rate': 'Network Performance',\n",
       " 'volte_retainability_rate': 'Network Performance',\n",
       " 'ows_availability': 'Network Performance',\n",
       " 'nr_availability_rate': 'Network Performance',\n",
       " 'volte_accessibility_sr': 'Network Performance',\n",
       " 'nr_retainability_rate': 'Network Performance',\n",
       " 'sd_setup_sr_rate': 'Network Performance',\n",
       " 'user_downlink_throughput': 'Network Performance',\n",
       " 'call_setup_success_rate': 'Network Performance',\n",
       " 'stream_qoe': 'Service Experience',\n",
       " 'cei_score': 'Service Experience',\n",
       " 'web_page_qoe': 'Service Experience',\n",
       " 'games_qoe': 'Service Experience',\n",
       " 'ccis_data_service_complaint': 'Service Experience',\n",
       " 'f_sharing_qoe': 'Service Experience',\n",
       " 'ccis_signal_complaint': 'Service Experience',\n",
       " 'im_qoe': 'Service Experience',\n",
       " 'ccis_voice_and_sms_service_complaint': 'Service Experience'}"
      ]
     },
     "execution_count": 5,
     "metadata": {},
     "output_type": "execute_result"
    }
   ],
   "source": [
    "threshold_fix"
   ]
  },
  {
   "cell_type": "code",
   "execution_count": 55,
   "id": "813c27d4-73eb-4452-bba7-2853ca0695c6",
   "metadata": {},
   "outputs": [],
   "source": [
    "dictt = {'a':[1,2,3], 'b':[1,2,3], 'c':[1,2,3]}\n",
    "dictt_df = pd.DataFrame(dictt)"
   ]
  },
  {
   "cell_type": "code",
   "execution_count": 57,
   "id": "333b95cc-b4bc-40c5-9b55-eef4c8ffa8a2",
   "metadata": {},
   "outputs": [
    {
     "data": {
      "text/html": [
       "<div>\n",
       "<style scoped>\n",
       "    .dataframe tbody tr th:only-of-type {\n",
       "        vertical-align: middle;\n",
       "    }\n",
       "\n",
       "    .dataframe tbody tr th {\n",
       "        vertical-align: top;\n",
       "    }\n",
       "\n",
       "    .dataframe thead th {\n",
       "        text-align: right;\n",
       "    }\n",
       "</style>\n",
       "<table border=\"1\" class=\"dataframe\">\n",
       "  <thead>\n",
       "    <tr style=\"text-align: right;\">\n",
       "      <th></th>\n",
       "      <th>a</th>\n",
       "      <th>b</th>\n",
       "      <th>c</th>\n",
       "    </tr>\n",
       "  </thead>\n",
       "  <tbody>\n",
       "    <tr>\n",
       "      <th>0</th>\n",
       "      <td>1</td>\n",
       "      <td>1</td>\n",
       "      <td>1</td>\n",
       "    </tr>\n",
       "    <tr>\n",
       "      <th>1</th>\n",
       "      <td>2</td>\n",
       "      <td>2</td>\n",
       "      <td>2</td>\n",
       "    </tr>\n",
       "    <tr>\n",
       "      <th>2</th>\n",
       "      <td>3</td>\n",
       "      <td>3</td>\n",
       "      <td>3</td>\n",
       "    </tr>\n",
       "  </tbody>\n",
       "</table>\n",
       "</div>"
      ],
      "text/plain": [
       "   a  b  c\n",
       "0  1  1  1\n",
       "1  2  2  2\n",
       "2  3  3  3"
      ]
     },
     "execution_count": 57,
     "metadata": {},
     "output_type": "execute_result"
    }
   ],
   "source": [
    "dictt_df"
   ]
  },
  {
   "cell_type": "code",
   "execution_count": 59,
   "id": "99e8c06d-9ea9-442c-a30b-f842551df712",
   "metadata": {},
   "outputs": [
    {
     "name": "stdout",
     "output_type": "stream",
     "text": [
      "a\n",
      "b\n",
      "c\n"
     ]
    }
   ],
   "source": [
    "for x in dictt_df:\n",
    "    print(x)"
   ]
  },
  {
   "cell_type": "code",
   "execution_count": 19,
   "id": "cf82581e-a9a3-42ac-b7b1-b16f1e2aae40",
   "metadata": {},
   "outputs": [
    {
     "data": {
      "text/plain": [
       "{'a': 1, 'b': 2, 'c': 3, 'd': 4}"
      ]
     },
     "execution_count": 19,
     "metadata": {},
     "output_type": "execute_result"
    }
   ],
   "source": [
    "xxx = dict(zip(list(dictt_df.columns), dictt_df.iloc[0,:]))\n",
    "xxx"
   ]
  },
  {
   "cell_type": "code",
   "execution_count": null,
   "id": "5cc2e37c-c92b-4011-b6c6-85770f6c133b",
   "metadata": {},
   "outputs": [],
   "source": []
  },
  {
   "cell_type": "code",
   "execution_count": 53,
   "id": "b735505b-148a-46b7-92f5-2ab61f27a71f",
   "metadata": {},
   "outputs": [],
   "source": [
    "import folium\n",
    "\n",
    "# Define the latitude and longitude for the point\n",
    "latitude = 1.05211  # Example: London latitude\n",
    "longitude = 104.02851  # Example: London longitude\n",
    "\n",
    "# Create a map centered around the coordinates\n",
    "map = folium.Map(location=[latitude, longitude], zoom_start=12, tiles='CartoDB.Voyager')\n",
    "\n",
    "# Add a marker (point) at the specific location\n",
    "folium.Marker([latitude, longitude], popup=\"London\").add_to(map)\n",
    "\n",
    "# Save the map as an HTML file\n",
    "map.save(\"map_with_point.html\")"
   ]
  },
  {
   "cell_type": "code",
   "execution_count": null,
   "id": "72abe106-daf7-4048-8428-dece8c4ea242",
   "metadata": {},
   "outputs": [],
   "source": []
  }
 ],
 "metadata": {
  "kernelspec": {
   "display_name": "Python 3 (ipykernel)",
   "language": "python",
   "name": "python3"
  },
  "language_info": {
   "codemirror_mode": {
    "name": "ipython",
    "version": 3
   },
   "file_extension": ".py",
   "mimetype": "text/x-python",
   "name": "python",
   "nbconvert_exporter": "python",
   "pygments_lexer": "ipython3",
   "version": "3.12.3"
  }
 },
 "nbformat": 4,
 "nbformat_minor": 5
}
